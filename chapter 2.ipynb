{
  "metadata": {
    "kernelspec": {
      "name": "python",
      "display_name": "Python (Pyodide)",
      "language": "python"
    },
    "language_info": {
      "codemirror_mode": {
        "name": "python",
        "version": 3
      },
      "file_extension": ".py",
      "mimetype": "text/x-python",
      "name": "python",
      "nbconvert_exporter": "python",
      "pygments_lexer": "ipython3",
      "version": "3.8"
    }
  },
  "nbformat_minor": 4,
  "nbformat": 4,
  "cells": [
    {
      "cell_type": "code",
      "source": "#2-1\n#Simple Message: Assign a message to a variable, and then print that message.\n\nmessage = \"Hello world!\"\nprint(message)",
      "metadata": {
        "trusted": true
      },
      "outputs": [
        {
          "name": "stdout",
          "text": "Hello world!\n",
          "output_type": "stream"
        }
      ],
      "execution_count": 18
    },
    {
      "cell_type": "code",
      "source": "#2-2\n#Simple Messages: Assign a message to a variable, and print that message. Then change the value\n#of the variable to a new message, and print the new message.\n\nmessage = \"Hello world!\"\nprint(message)\n\nmessage = \"Hello world! How are you?\"\nprint(message)",
      "metadata": {
        "trusted": true
      },
      "outputs": [
        {
          "name": "stdout",
          "text": "Hello world!\nHello world! How are you?\n",
          "output_type": "stream"
        }
      ],
      "execution_count": 20
    },
    {
      "cell_type": "code",
      "source": "#2-3\n#Personal Message: Use a variable to represent a person’s name, and print a message to that person. \n#Your message should be simple, such as, “Hello Eric, would you like to learn some Python today?”\n\nname = \"Tala\"\nmessage = f\"Hello {name}, would you like to learn Python some day?\"\nprint(message)",
      "metadata": {
        "trusted": true
      },
      "outputs": [
        {
          "name": "stdout",
          "text": "Hello Tala, would you like to learn Python some day?\n",
          "output_type": "stream"
        }
      ],
      "execution_count": 16
    },
    {
      "cell_type": "code",
      "source": "#2-4\n#Name Cases: Use a variable to represent a person’s name, and then print that person’s name \n#in lowercase, uppercase, and title case.\n\nname = \"Tala\"\nprint(name.upper())\nprint(name.lower())\nprint(name.title())",
      "metadata": {
        "trusted": true
      },
      "outputs": [
        {
          "name": "stdout",
          "text": "TALA\ntala\nTala\n",
          "output_type": "stream"
        }
      ],
      "execution_count": 15
    },
    {
      "cell_type": "code",
      "source": "#2-5 and 2_6\n#Famous Quote: Find a quote from a famous person you admire. Print the quote and the name of its author.\n#Your output should look something like the following, including the quotation marks:\n#Albert Einstein once said, “A person who never made a mistake never tried anything new.”\n\n#Famous Quote 2: Repeat Exercise 2-5, but this time, represent the famous person’s name using a variable\n#called famous_person. Then compose your message and represent it with a new variable called message. Print your message.\n\nperson = 'Albert Einstein'\nquote = '\"A person who never made a mistake never tried anything new.\"'\nmessage = f\"{person} one said {quote}\"\nprint(message)",
      "metadata": {
        "trusted": true
      },
      "outputs": [
        {
          "name": "stdout",
          "text": "Albert Einstein one said \"A person who never made a mistake never tried anything new.\"\n",
          "output_type": "stream"
        }
      ],
      "execution_count": 21
    },
    {
      "cell_type": "code",
      "source": "#2-7\n#Stripping Names: Use a variable to represent a person’s name, and include some whitespace\n#characters at the beginning and end of the name. Make sure you use each character combination, \"\\t\" and \"\\n\", at least once.\n\nname = \"  Tala \"\nmessage = f\"{name}\\n\\t{name.lstrip()}\\n\\t{name.rstrip()}\\n\\t{name.strip()}\"\nprint(message)",
      "metadata": {
        "trusted": true
      },
      "outputs": [
        {
          "name": "stdout",
          "text": "  Tala \n\tTala \n\t  Tala\n\tTala\n",
          "output_type": "stream"
        }
      ],
      "execution_count": 23
    },
    {
      "cell_type": "code",
      "source": "#2-8\n# File Extensions: Python has a removesuffix() method that works exactly like removeprefix().\n#Assign the value 'python_notes.txt' to a variable called filename. Then use the removesuffix()\n#method to display the filename without the file extension, like some file browsers do.\n\nfilename = \"python_notes.txt\"\nprint(filename.removesuffix('.txt'))",
      "metadata": {
        "trusted": true
      },
      "outputs": [
        {
          "name": "stdout",
          "text": "python_notes\n",
          "output_type": "stream"
        }
      ],
      "execution_count": 29
    },
    {
      "cell_type": "code",
      "source": "#2-9\n#Number Eight: Write addition, subtraction, multiplication, and division operations that\n#each result in the number 8. Be sure to enclose your operations in print() calls to see the results.\n#You should create four lines that look like this:\n#print(5+3)\n\nprint(2+6)\nprint(11-3)\nprint(2*4)\nprint(16/2)",
      "metadata": {
        "trusted": true
      },
      "outputs": [
        {
          "name": "stdout",
          "text": "8\n8\n8\n8.0\n",
          "output_type": "stream"
        }
      ],
      "execution_count": 30
    },
    {
      "cell_type": "code",
      "source": "#2-10\n#Favorite Number: Use a variable to represent your favorite number. Then, using that variable,\n#create a message that reveals your favorite number. Print that message.\n\nfav_num = 1001\nmessage = f\"My favorite number is {fav_num}.\"\nprint(message)",
      "metadata": {
        "trusted": true
      },
      "outputs": [
        {
          "name": "stdout",
          "text": "My favorite number is 1001.\n",
          "output_type": "stream"
        }
      ],
      "execution_count": 32
    },
    {
      "cell_type": "code",
      "source": "#2-12\n#Zen of Python: Enter import this into a Python terminal session and skim through the additional principles.\n\nimport this",
      "metadata": {
        "trusted": true
      },
      "outputs": [
        {
          "name": "stdout",
          "text": "The Zen of Python, by Tim Peters\n\nBeautiful is better than ugly.\nExplicit is better than implicit.\nSimple is better than complex.\nComplex is better than complicated.\nFlat is better than nested.\nSparse is better than dense.\nReadability counts.\nSpecial cases aren't special enough to break the rules.\nAlthough practicality beats purity.\nErrors should never pass silently.\nUnless explicitly silenced.\nIn the face of ambiguity, refuse the temptation to guess.\nThere should be one-- and preferably only one --obvious way to do it.\nAlthough that way may not be obvious at first unless you're Dutch.\nNow is better than never.\nAlthough never is often better than *right* now.\nIf the implementation is hard to explain, it's a bad idea.\nIf the implementation is easy to explain, it may be a good idea.\nNamespaces are one honking great idea -- let's do more of those!\n",
          "output_type": "stream"
        }
      ],
      "execution_count": 33
    }
  ]
}