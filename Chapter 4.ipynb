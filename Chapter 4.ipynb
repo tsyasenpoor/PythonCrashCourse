{
  "metadata": {
    "kernelspec": {
      "name": "python",
      "display_name": "Python (Pyodide)",
      "language": "python"
    },
    "language_info": {
      "codemirror_mode": {
        "name": "python",
        "version": 3
      },
      "file_extension": ".py",
      "mimetype": "text/x-python",
      "name": "python",
      "nbconvert_exporter": "python",
      "pygments_lexer": "ipython3",
      "version": "3.8"
    }
  },
  "nbformat_minor": 4,
  "nbformat": 4,
  "cells": [
    {
      "cell_type": "code",
      "source": "#4-1\n#Pizzas: Think of at least three kinds of your favorite pizza. Store these pizza names in a list,\n#and then use a for loop to print the name of each pizza.\n#Modify your for loop to print a sentence using the name of the pizza, instead of printing just\n#the name of the pizza. For each pizza, you should have one line of output containing a simple statement like I like pepperoni pizza.\n#Add a line at the end of your program, outside the for loop, that states how much you like pizza.\n#The output should consist of three or more lines about the kinds of pizza you like and then an additional sentence, such as I really love pizza!\n\npizzas=['pepperoni', 'buffalo chicken', 'cheese']\nfor pizza in pizzas:\n    print(f'I love {pizza.title()} pizza!')\n\nprint('I really love pizza')\n",
      "metadata": {
        "trusted": true
      },
      "outputs": [
        {
          "name": "stdout",
          "text": "I love Pepperoni pizza!\nI love Buffalo Chicken pizza!\nI love Cheese pizza!\nI really love pizza\n",
          "output_type": "stream"
        }
      ],
      "execution_count": 24
    },
    {
      "cell_type": "code",
      "source": "#4-2\n#Animals: Think of at least three different animals that have a common characteristic.\n#Store the names of these animals in a list, and then use a for loop to print out the name of each animal.\n#Modify your program to print a statement about each animal, such as A dog would make a great pet.\n#Add a line at the end of your program, stating what these animals have in common.\n#You could print a sentence, such as Any of these animals would make a great pet!\n\ncats = ['Japanese Bobtail', 'Russian Blue', 'Siamese']\nfor cat in cats:\n    print(f'{cat} cats are very pretty!')\n\nprint('Any of these breeds would make a great pet!')",
      "metadata": {
        "trusted": true
      },
      "outputs": [
        {
          "name": "stdout",
          "text": "Japanese Bobtail cats are very pretty!\nRussian Blue cats are very pretty!\nSiamese cats are very pretty!\nAny of these breeds would make a great pet!\n",
          "output_type": "stream"
        }
      ],
      "execution_count": 8
    },
    {
      "cell_type": "code",
      "source": "#4-3\n#Counting to Twenty: Use a for loop to print the numbers from 1 to 20, inclusive.\n\nfor num in range(1, 21):\n    print(num)",
      "metadata": {
        "trusted": true
      },
      "outputs": [
        {
          "name": "stdout",
          "text": "1\n2\n3\n4\n5\n6\n7\n8\n9\n10\n11\n12\n13\n14\n15\n16\n17\n18\n19\n20\n",
          "output_type": "stream"
        }
      ],
      "execution_count": 9
    },
    {
      "cell_type": "code",
      "source": "#4-4\n#One Million: Make a list of the numbers from one to one million, and then use a for loop to print the numbers.\n#(If the output is taking too long, stop it by pressing CTRL-C or by closing the output window.)\n\nnums = list(range(1, 1000000))\n\n##The output is too long so I commented these.\n\n#for num in nums: \n    #print(num)",
      "metadata": {
        "trusted": true
      },
      "outputs": [],
      "execution_count": 13
    },
    {
      "cell_type": "code",
      "source": "#4-5\n#Summing a Million: Make a list of the numbers from one to one million, and then use min() and max()\n#to make sure your list actually starts at one and ends at one million. Also, use the sum() function\n#to see how quickly Python can add a million numbers.\n\nnums = list(range(1, 1000001))\nprint(max(nums))\nprint(min(nums))\nprint(sum(nums))",
      "metadata": {
        "trusted": true
      },
      "outputs": [
        {
          "name": "stdout",
          "text": "1000000\n1\n500000500000\n",
          "output_type": "stream"
        }
      ],
      "execution_count": 14
    },
    {
      "cell_type": "code",
      "source": "#4-6\n#Odd Numbers: Use the third argument of the range() function to make a list of the odd numbers from 1 to 20.\n#Use a for loop to print each number.\n\nodd_nums=list(range(1, 20, 2))\nfor odd_num in odd_nums:\n    print(odd_num)\n",
      "metadata": {
        "trusted": true
      },
      "outputs": [
        {
          "name": "stdout",
          "text": "1\n3\n5\n7\n9\n11\n13\n15\n17\n19\n",
          "output_type": "stream"
        }
      ],
      "execution_count": 15
    },
    {
      "cell_type": "code",
      "source": "#4-7\n#Threes: Make a list of the multiples of 3, from 3 to 30. Use a for loop to print the numbers in your list.\nthrees = list(range(3, 31, 3))\nfor three in threes:\n    print(three)\n",
      "metadata": {
        "trusted": true
      },
      "outputs": [
        {
          "name": "stdout",
          "text": "3\n6\n9\n12\n15\n18\n21\n24\n27\n30\n",
          "output_type": "stream"
        }
      ],
      "execution_count": 16
    },
    {
      "cell_type": "code",
      "source": "#4-8\n#Cubes: A number raised to the third power is called a cube. For example, the cube of 2 is written as 2**3 in Python. Make a list\n#of the first 10 cubes (that is, the cube of each integer from 1 through 10), and use a for loop to print out the value of each cube.\n\nvalues = list(range(1, 11))\nfor value in values:\n    print(value ** 3)",
      "metadata": {
        "trusted": true
      },
      "outputs": [
        {
          "name": "stdout",
          "text": "1\n8\n27\n64\n125\n216\n343\n512\n729\n1000\n",
          "output_type": "stream"
        }
      ],
      "execution_count": 17
    },
    {
      "cell_type": "code",
      "source": "#4-9\n#Cube Comprehension: Use a list comprehension to generate a list of the first 10 cubes.\ncubes = []\nfor value in range(1, 11):\n    cube = value ** 3\n    cubes.append(cube)\n\nprint(cubes)",
      "metadata": {
        "trusted": true
      },
      "outputs": [
        {
          "name": "stdout",
          "text": "[1, 8, 27, 64, 125, 216, 343, 512, 729, 1000]\n",
          "output_type": "stream"
        }
      ],
      "execution_count": 18
    },
    {
      "cell_type": "code",
      "source": "#4-10\n#Slices: Using one of the programs you wrote in this chapter, add several lines to the end of the program that do the following:\n#Print the message The first three items in the list are:. Then use a slice to print the first three items from that program’s list.\n#Print the message Three items from the middle of the list are:. Then use a slice to print three items from the middle of the list.\n#Print the message The last three items in the list are:. Then use a slice to print the last three items in the list.\n\npizzas = ['pepperoni', 'buffalo chicken', 'cheese', 'BBQ Chicken', 'Bacon & Cheese']\nprint('The first three items in the list are:')\nprint(pizzas[0:3])\nprint('Three items from the middle of the list are:')\nprint(pizzas[1:4])\nprint('The last three items in the list are:')\nprint(pizzas[-3:])\n",
      "metadata": {
        "trusted": true
      },
      "outputs": [
        {
          "name": "stdout",
          "text": "The first three items in the list are:\n['pepperoni', 'buffalo chicken', 'cheese']\nThree items from the middle of the list are:\n['buffalo chicken', 'cheese', 'BBQ Chicken']\nThe last three items in the list are:\n['cheese', 'BBQ Chicken', 'Bacon & Cheese']\n",
          "output_type": "stream"
        }
      ],
      "execution_count": 28
    },
    {
      "cell_type": "code",
      "source": "#4-11\n#My Pizzas, Your Pizzas: Start with your program from Exercise 4-1 (page 56). Make a copy of the list of pizzas,\n#and call it friend_pizzas. Then, do the following:\n#Add a new pizza to the original list.\n#Add a different pizza to the list friend_pizzas.\n#Prove that you have two separate lists. Print the message My favorite pizzas are:,\n#and then use a for loop to print the first list. Print the message My friend’s favorite pizzas are:,\n#and then use a for loop to print the second list. Make sure each new pizza is stored in the appropriate list.\n\nmy_pizzas = ['pepperoni', 'buffalo chicken', 'cheese']\nfriend_pizzas = ['pepperoni', 'buffalo chicken', 'cheese']\nmy_pizzas.append('BBQ Chicken')\nfriend_pizzas.append('Bacon & Cheese')\nprint('My favorite pizzas are:')\nfor my_pizza in my_pizzas:\n    print(my_pizza)\n\nprint(\"My friend's favorite pizzas are:\")\nfor friend_pizza in friend_pizzas:\n    print(friend_pizza)",
      "metadata": {
        "trusted": true
      },
      "outputs": [
        {
          "name": "stdout",
          "text": "My favorite pizzas are:\npepperoni\nbuffalo chicken\ncheese\nBBQ Chicken\nMy friend's favorite pizzas are:\npepperoni\nbuffalo chicken\ncheese\nBacon & Cheese\n",
          "output_type": "stream"
        }
      ],
      "execution_count": 31
    },
    {
      "cell_type": "code",
      "source": "#4-12\n#More Loops: All versions of foods.py in this section have avoided using for loops when printing,\n#to save space. Choose a version of foods.py, and write two for loops to print each list of foods.\n\nfoods = ['pizza', 'falafel', 'carrot cake']\nfor food in foods:\n    print(food)\n\nfor i in range(len(foods)):\n    print(foods[i])",
      "metadata": {
        "trusted": true
      },
      "outputs": [
        {
          "name": "stdout",
          "text": "pizza\nfalafel\ncarrot cake\npizza\nfalafel\ncarrot cake\n",
          "output_type": "stream"
        }
      ],
      "execution_count": 33
    },
    {
      "cell_type": "code",
      "source": "#4-13\n#Buffet: A buffet-style restaurant offers only five basic foods. Think of five simple foods, and store them in a tuple.\n#Use a for loop to print each food the restaurant offers.\n#Try to modify one of the items, and make sure that Python rejects the change.\n#The restaurant changes its menu, replacing two of the items with different foods.\n#Add a line that rewrites the tuple, and then use a for loop to print each of the items on the revised menu.\n\nfoods = ('pizza', 'nuggets', 'sushi', 'mac & cheese', 'salad')\nfor food in foods:\n    print(food)\n\nfoods = ('pizza', 'nuggets', 'hibachi', 'soup', 'salad')\nfor food in foods:\n    print(food)",
      "metadata": {
        "trusted": true
      },
      "outputs": [
        {
          "name": "stdout",
          "text": "pizza\nnuggets\nsushi\nmac & cheese\nsalad\npizza\nnuggets\nhibachi\nsoup\nsalad\n",
          "output_type": "stream"
        }
      ],
      "execution_count": 35
    }
  ]
}