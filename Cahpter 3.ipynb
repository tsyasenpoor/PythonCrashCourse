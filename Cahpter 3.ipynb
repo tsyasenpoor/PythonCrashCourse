{
  "metadata": {
    "kernelspec": {
      "name": "python",
      "display_name": "Python (Pyodide)",
      "language": "python"
    },
    "language_info": {
      "codemirror_mode": {
        "name": "python",
        "version": 3
      },
      "file_extension": ".py",
      "mimetype": "text/x-python",
      "name": "python",
      "nbconvert_exporter": "python",
      "pygments_lexer": "ipython3",
      "version": "3.8"
    }
  },
  "nbformat_minor": 4,
  "nbformat": 4,
  "cells": [
    {
      "cell_type": "code",
      "source": "#3-1\n#Names: Store the names of a few of your friends in a list called names. Print each person’s name by\n#accessing each element in the list, one at a time.\n\nnames = ['Mori', 'Sj', 'Fatook', 'Morty']\nprint(names[0])\nprint(names[1])\nprint(names[-2])\nprint(names[-1])\n",
      "metadata": {
        "trusted": true
      },
      "outputs": [
        {
          "name": "stdout",
          "text": "Mori\nSj\nFatook\nMorty\n",
          "output_type": "stream"
        }
      ],
      "execution_count": 1
    },
    {
      "cell_type": "code",
      "source": "#3-2\n#Greetings: Start with the list you used in Exercise 3-1, but instead of just printing each person’s name,\n#print a message to them. The text of each message should be the same, but each message should be personalized with the person’s name.\n\nnames = ['Mori', 'Sj', 'Fatook', 'Morty']\nmessage0 = f'Hello, {names[0].title()}'\nmessage1 = f'Hello, {names[1].title()}'\nmessage2 = f'Hello, {names[2].title()}'\nmessage3 = f'Hello, {names[3].title()}'\nprint(message0)\nprint(message1)\nprint(message2)\nprint(message3)",
      "metadata": {
        "trusted": true
      },
      "outputs": [
        {
          "name": "stdout",
          "text": "Hello, Mori\nHello, Sj\nHello, Fatook\nHello, Morty\n",
          "output_type": "stream"
        }
      ],
      "execution_count": 12
    },
    {
      "cell_type": "code",
      "source": "#3-3\n#Your Own List: Think of your favorite mode of transportation, such as a motorcycle or a car,\n#and make a list that stores several examples. Use your list to print a series of statements\n#about these items, such as “I would like to own a Honda motorcycle.”\n\ncars = ['lambo', 'chevy', 'ford', 'porsche']\nstatement = f'I would like to own a {cars[3].title()}'\nprint(statement)",
      "metadata": {
        "trusted": true
      },
      "outputs": [
        {
          "name": "stdout",
          "text": "I would like to own a Porsche\n",
          "output_type": "stream"
        }
      ],
      "execution_count": 13
    },
    {
      "cell_type": "code",
      "source": "#3-4\n#Guest List: If you could invite anyone, living or deceased, to dinner, who would you invite?\n#Make a list that includes at least three people you’d like to invite to dinner. Then use your list\n#to print a message to each person, inviting them to dinner.\n\nguests = ['Mori', 'Tala', 'Cookie']\ninvitation0 = f'Hello {guests[0]}! I would like to invite you for dinner.'\ninvitation1 = f'Hello {guests[1]}! I would like to invite you for dinner.'\ninvitation2 = f'Hello {guests[2]}! I would like to invite you for dinner.'\n\nprint(invitation0)\nprint(invitation1)\nprint(invitation2)",
      "metadata": {
        "trusted": true
      },
      "outputs": [
        {
          "name": "stdout",
          "text": "Hello Mori! I would like to invite you for dinner.\nHello Tala! I would like to invite you for dinner.\nHello Cookie! I would like to invite you for dinner.\n",
          "output_type": "stream"
        }
      ],
      "execution_count": 30
    },
    {
      "cell_type": "code",
      "source": "#3-5\n#Changing Guest List: You just heard that one of your guests can’t make the dinner, so you need\n#to send out a new set of invitations. You’ll have to think of someone else to invite.\n#Start with your program from Exercise 3-4. Add a print() call at the end of your program, stating the name of the guest who can’t make it.\n#Modify your list, replacing the name of the guest who can’t make it with the name of the new person you are inviting.\n#Print a second set of invitation messages, one for each person who is still in your list.\n\nguests = ['Mori', 'Tala', 'Cookie']\n\ninvitation0 = f'Hello {guests[0]}! I would like to invite you for dinner.'\ninvitation1 = f'Hello {guests[1]}! I would like to invite you for dinner.'\ninvitation2 = f'Hello {guests[2]}! I would like to invite you for dinner.'\nprint(invitation0)\nprint(invitation1)\nprint(invitation2)\n\nnoGuest = guests[1]\nprint(noGuest)\n\nguests[1] = 'Watson'\nfor guest in guests:\n    print(f\"Hello {guest.title()}! I would like to invite you for dinner.\")",
      "metadata": {
        "trusted": true
      },
      "outputs": [
        {
          "name": "stdout",
          "text": "Hello Mori! I would like to invite you for dinner.\nHello Tala! I would like to invite you for dinner.\nHello Cookie! I would like to invite you for dinner.\nTala\nHello Mori! I would like to invite you for dinner.\nHello Watson! I would like to invite you for dinner.\nHello Cookie! I would like to invite you for dinner.\n",
          "output_type": "stream"
        }
      ],
      "execution_count": 34
    },
    {
      "cell_type": "code",
      "source": "#3-6\n#More Guests: You just found a bigger dinner table, so now more space is available. Think of three more guests to invite to dinner.\n#Start with your program from Exercise 3-4 or 3-5. Add a print() call to the end of your program, informing people that you found a bigger table.\n#Use insert() to add one new guest to the beginning of your list.\n#Use insert() to add one new guest to the middle of your list.\n#Use append() to add one new guest to the end of your list.\n#Print a new set of invitation messages, one for each person in your list.\n\nguests = ['Mori', 'Tala', 'Cookie']\ninvitation0 = f'Hello {guests[0]}! I would like to invite you for dinner.'\ninvitation1 = f'Hello {guests[1]}! I would like to invite you for dinner.'\ninvitation2 = f'Hello {guests[2]}! I would like to invite you for dinner.'\n\nprint(invitation0)\nprint(invitation1)\nprint(invitation2)\nprint(\"I found a bigger table\")\n\nguests.insert(0, 'Watson')\nguests.insert(2, 'Romeo')\nguests.append('Roxanne')\nfor guest in guests:\n    print(f\"Hello {guest.title()}! I would like to invite you for dinner.\")",
      "metadata": {
        "trusted": true
      },
      "outputs": [
        {
          "name": "stdout",
          "text": "Hello Mori! I would like to invite you for dinner.\nHello Tala! I would like to invite you for dinner.\nHello Cookie! I would like to invite you for dinner.\nI found a bigger table\nHello Watson! I would like to invite you for dinner.\nHello Mori! I would like to invite you for dinner.\nHello Romeo! I would like to invite you for dinner.\nHello Tala! I would like to invite you for dinner.\nHello Cookie! I would like to invite you for dinner.\nHello Roxanne! I would like to invite you for dinner.\n",
          "output_type": "stream"
        }
      ],
      "execution_count": 33
    },
    {
      "cell_type": "code",
      "source": "#3-7\n#Shrinking Guest List: You just found out that your new dinner table won’t arrive in time\n#for the dinner, and now you have space for only two guests.\n#Start with your program from Exercise 3-6. Add a new line that prints a message saying that you can invite only two people for dinner.\n#Use pop() to remove guests from your list one at a time until only two names remain in your list.\n#Each time you pop a name from your list, print a message to that person letting them know you’re sorry you can’t invite them to dinner.\n#Print a message to each of the two people still on your list, letting them know they’re still invited.\n#Use del to remove the last two names from your list, so you have an empty list.\n#Print your list to make sure you actually have an empty list at the end of your program.\n\nguests = ['Mori', 'Tala', 'Cookie']\ninvitation0 = f'Hello {guests[0]}! I would like to invite you for dinner.'\ninvitation1 = f'Hello {guests[1]}! I would like to invite you for dinner.'\ninvitation2 = f'Hello {guests[2]}! I would like to invite you for dinner.'\n\nprint(invitation0)\nprint(invitation1)\nprint(invitation2)\nprint(\"I found a bigger table\")\n\nguests.insert(0, 'Watson')\nguests.insert(2, 'Romeo')\nguests.append('Roxanne')\nfor guest in guests:\n    print(f\"Hello {guest.title()}! I would like to invite you for dinner.\")\n\nprint('I can only invite two people!')\n\nprint(guests)\ndeleted_guests = [guests.pop(0), guests.pop(0), guests.pop(0), guests.pop(0)] #The counter goes back to zero every time!\nprint(deleted_guests)\n\nfor deleted_guest in deleted_guests:\n    print(f\"Hello {deleted_guest.title()}! I  am sorry I cannot invite you for dinner!\")\n\nfor guest in guests:\n    print(f\"Hello {guest.title()}! You are still welcome to join the party!\")\n\ndel guests[0] #Same comment applies here!\ndel guests[0]\n\nprint(guests)",
      "metadata": {
        "trusted": true
      },
      "outputs": [
        {
          "name": "stdout",
          "text": "Hello Mori! I would like to invite you for dinner.\nHello Tala! I would like to invite you for dinner.\nHello Cookie! I would like to invite you for dinner.\nI found a bigger table\nHello Watson! I would like to invite you for dinner.\nHello Mori! I would like to invite you for dinner.\nHello Romeo! I would like to invite you for dinner.\nHello Tala! I would like to invite you for dinner.\nHello Cookie! I would like to invite you for dinner.\nHello Roxanne! I would like to invite you for dinner.\nI can only invite two people!\n['Watson', 'Mori', 'Romeo', 'Tala', 'Cookie', 'Roxanne']\n['Watson', 'Mori', 'Romeo', 'Tala']\nHello Watson! I  am sorry I cannot invite you for dinner!\nHello Mori! I  am sorry I cannot invite you for dinner!\nHello Romeo! I  am sorry I cannot invite you for dinner!\nHello Tala! I  am sorry I cannot invite you for dinner!\nHello Cookie! You are still welcome to join the party!\nHello Roxanne! You are still welcome to join the party!\n[]\n",
          "output_type": "stream"
        }
      ],
      "execution_count": 68
    },
    {
      "cell_type": "code",
      "source": "#3-8\n#Seeing the World: Think of at least five places in the world you’d like to visit.\n#Store the locations in a list. Make sure the list is not in alphabetical order.\n#Print your list in its original order. Don’t worry about printing the list neatly; just print it as a raw Python list.\n#Use sorted() to print your list in alphabetical order without modifying the actual list.\n#Show that your list is still in its original order by printing it.\n#Use sorted() to print your list in reverse-alphabetical order without changing the order of the original list.\n#Show that your list is still in its original order by printing it again.\n#Use reverse() to change the order of your list. Print the list to show that its order has changed.\n#Use reverse() to change the order of your list again. Print the list to show it’s back to its original order.\n#Use sort() to change your list so it’s stored in alphabetical order. Print the list to show that its order has been changed.\n#Use sort() to change your list so it’s stored in reverse-alphabetical order. Print the list to show that its order has changed.\n\nlocations=['Norway', 'Switzerland', 'Luxembourg', 'Iceland', 'Mexico']\nprint(locations)\n\nprint(sorted(locations))\nprint(locations)\n\nprint(sorted(locations, reverse=True))\nprint(locations)\n\nlocations.reverse()\nprint(locations)\n\nlocations.reverse()\nprint(locations)\n\nlocations.sort()\nprint(locations)\n\nlocations.sort(reverse=True)\nprint(locations)",
      "metadata": {
        "trusted": true
      },
      "outputs": [
        {
          "name": "stdout",
          "text": "['Norway', 'Switzerland', 'Luxembourg', 'Iceland', 'Mexico']\n['Iceland', 'Luxembourg', 'Mexico', 'Norway', 'Switzerland']\n['Norway', 'Switzerland', 'Luxembourg', 'Iceland', 'Mexico']\n['Switzerland', 'Norway', 'Mexico', 'Luxembourg', 'Iceland']\n['Norway', 'Switzerland', 'Luxembourg', 'Iceland', 'Mexico']\n['Mexico', 'Iceland', 'Luxembourg', 'Switzerland', 'Norway']\n['Norway', 'Switzerland', 'Luxembourg', 'Iceland', 'Mexico']\n['Iceland', 'Luxembourg', 'Mexico', 'Norway', 'Switzerland']\n['Switzerland', 'Norway', 'Mexico', 'Luxembourg', 'Iceland']\n",
          "output_type": "stream"
        }
      ],
      "execution_count": 85
    },
    {
      "cell_type": "code",
      "source": "#3-9\n#Dinner Guests: Working with one of the programs from Exercises 3-4 through 3-7 (pages 41–42),\n#use len() to print a message indicating the number of people you’re inviting to dinner.\n\nguests = ['Mori', 'Tala', 'Cookie']\nprint(f'{len(guests)} people are invited!')",
      "metadata": {
        "trusted": true
      },
      "outputs": [
        {
          "name": "stdout",
          "text": "3 people are invited!\n",
          "output_type": "stream"
        }
      ],
      "execution_count": 89
    },
    {
      "cell_type": "code",
      "source": "#3-10\n#Every Function: Think of things you could store in a list. For example, you could make\n#a list of mountains, rivers, countries, cities, languages, or anything else you’d like. \n#Write a program that creates a list containing these items and then uses each function introduced in this chapter at least once.\n\nlanguages=['Farsi', 'kurdish', 'turkish', 'spanish', 'English', 'German', 'Russian', 'Arabic']\nprint(languages)\nprint(sorted(languages))\nprint(languages)\nprint(languages.pop())\nlanguages.remove('turkish')\nprint(languages)\nlanguages.append('Welsh')\nprint(languages)\nlanguages.insert(0, 'Esperanto')\nprint(languages)\nprint(f'I know how to speak {len(languages)} )",
      "metadata": {
        "trusted": true
      },
      "outputs": [
        {
          "name": "stdout",
          "text": "['Farsi', 'kurdish', 'turkish', 'spanish', 'English', 'German', 'Russian', 'Arabic']\n['Arabic', 'English', 'Farsi', 'German', 'Russian', 'kurdish', 'spanish', 'turkish']\n['Farsi', 'kurdish', 'turkish', 'spanish', 'English', 'German', 'Russian', 'Arabic']\nArabic\n['Farsi', 'kurdish', 'spanish', 'English', 'German', 'Russian']\n['Farsi', 'kurdish', 'spanish', 'English', 'German', 'Russian', 'Welsh']\n['Esperanto', 'Farsi', 'kurdish', 'spanish', 'English', 'German', 'Russian', 'Welsh']\n8\n",
          "output_type": "stream"
        }
      ],
      "execution_count": 107
    }
  ]
}